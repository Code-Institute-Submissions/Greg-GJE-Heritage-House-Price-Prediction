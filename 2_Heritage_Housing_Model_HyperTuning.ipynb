{
 "cells": [
  {
   "cell_type": "code",
   "execution_count": null,
   "metadata": {},
   "outputs": [],
   "source": [
    "import pandas as pd\n",
    "import numpy as np\n",
    "import seaborn as sns\n",
    "import matplotlib.pyplot as plt\n",
    "%matplotlib inline\n",
    "\n",
    "from sklearn.preprocessing import LabelEncoder\n",
    "import xgboost as xgb"
   ]
  },
  {
   "cell_type": "markdown",
   "metadata": {},
   "source": [
    "6. Model Loading and Testing:\n",
    "The pre-trained XGBoost model is loaded from the 'model.pkl' file. The 'test.csv' file is imported, and necessary preprocessing steps are applied. The model is evaluated using mean absolute error (MAE) and R2 score to assess its performance."
   ]
  },
  {
   "cell_type": "markdown",
   "metadata": {},
   "source": [
    "**now we will import the train and test csv files and then again preprocess by removing some features manually**"
   ]
  },
  {
   "cell_type": "code",
   "execution_count": null,
   "metadata": {},
   "outputs": [],
   "source": [
    "train = pd.read_csv('train.csv')\n",
    "test = pd.read_csv('test.csv')"
   ]
  },
  {
   "cell_type": "code",
   "execution_count": null,
   "metadata": {},
   "outputs": [
    {
     "name": "stdout",
     "output_type": "stream",
     "text": [
      "<class 'pandas.core.frame.DataFrame'>\n",
      "RangeIndex: 1391 entries, 0 to 1390\n",
      "Data columns (total 14 columns):\n",
      " #   Column        Non-Null Count  Dtype  \n",
      "---  ------        --------------  -----  \n",
      " 0   1stFlrSF      1391 non-null   int64  \n",
      " 1   2ndFlrSF      1306 non-null   float64\n",
      " 2   BedroomAbvGr  1296 non-null   float64\n",
      " 3   BsmtFinSF1    1391 non-null   float64\n",
      " 4   GarageArea    1391 non-null   float64\n",
      " 5   GrLivArea     1391 non-null   int64  \n",
      " 6   LotArea       1391 non-null   int64  \n",
      " 7   MasVnrArea    1384 non-null   float64\n",
      " 8   OpenPorchSF   1391 non-null   int64  \n",
      " 9   OverallCond   1391 non-null   int64  \n",
      " 10  OverallQual   1391 non-null   int64  \n",
      " 11  TotalBsmtSF   1391 non-null   float64\n",
      " 12  YearBuilt     1391 non-null   int64  \n",
      " 13  YearRemodAdd  1391 non-null   int64  \n",
      "dtypes: float64(6), int64(8)\n",
      "memory usage: 152.3 KB\n"
     ]
    }
   ],
   "source": [
    "train.info()"
   ]
  },
  {
   "cell_type": "markdown",
   "metadata": {},
   "source": [
    "dropping all the columns except \n",
    "\n",
    "1stFlrSF\t2ndFlrSF\tBedroomAbvGr\tBsmtFinSF1\tGarageArea\tGrLivArea\tLotArea\tMasVnrArea\tOpenPorchSF\tOverallCond\tOverallQual\tTotalBsmtSF\tYearBuilt\tYearRemodAdd\t\t\t\n"
   ]
  },
  {
   "cell_type": "code",
   "execution_count": null,
   "metadata": {},
   "outputs": [],
   "source": [
    "keep_cols = ['1stFlrSF', '2ndFlrSF', 'BedroomAbvGr', 'BsmtFinSF1', 'GarageArea', \n",
    "             'GrLivArea', 'LotArea', 'MasVnrArea', 'OpenPorchSF', 'OverallCond',\n",
    "             'OverallQual', 'TotalBsmtSF', 'YearBuilt', 'YearRemodAdd']\n",
    "\n",
    "# Drop all columns except the ones to keep\n",
    "train = train[keep_cols]"
   ]
  },
  {
   "cell_type": "code",
   "execution_count": null,
   "metadata": {},
   "outputs": [
    {
     "name": "stdout",
     "output_type": "stream",
     "text": [
      "<class 'pandas.core.frame.DataFrame'>\n",
      "RangeIndex: 1391 entries, 0 to 1390\n",
      "Data columns (total 14 columns):\n",
      " #   Column        Non-Null Count  Dtype  \n",
      "---  ------        --------------  -----  \n",
      " 0   1stFlrSF      1391 non-null   int64  \n",
      " 1   2ndFlrSF      1306 non-null   float64\n",
      " 2   BedroomAbvGr  1296 non-null   float64\n",
      " 3   BsmtFinSF1    1391 non-null   float64\n",
      " 4   GarageArea    1391 non-null   float64\n",
      " 5   GrLivArea     1391 non-null   int64  \n",
      " 6   LotArea       1391 non-null   int64  \n",
      " 7   MasVnrArea    1384 non-null   float64\n",
      " 8   OpenPorchSF   1391 non-null   int64  \n",
      " 9   OverallCond   1391 non-null   int64  \n",
      " 10  OverallQual   1391 non-null   int64  \n",
      " 11  TotalBsmtSF   1391 non-null   float64\n",
      " 12  YearBuilt     1391 non-null   int64  \n",
      " 13  YearRemodAdd  1391 non-null   int64  \n",
      "dtypes: float64(6), int64(8)\n",
      "memory usage: 152.3 KB\n"
     ]
    }
   ],
   "source": [
    "train.info()"
   ]
  }
 ],
 "metadata": {
  "language_info": {
   "name": "python"
  }
 },
 "nbformat": 4,
 "nbformat_minor": 2
}
